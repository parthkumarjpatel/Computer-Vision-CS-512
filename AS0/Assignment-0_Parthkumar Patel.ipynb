{
 "cells": [
  {
   "cell_type": "markdown",
   "metadata": {},
   "source": [
    "# Assignment-1 Name : Parthkumar Patel
Student ID : A20416508
Course Number : CS512
Semester – Fall 2018 "
   ]
  },
  {
   "cell_type": "markdown",
   "metadata": {},
   "source": [
    "Question - A"
   ]
  },
  {
   "cell_type": "markdown",
   "metadata": {},
   "source": [
    "Sub question - 1"
   ]
  },
  {
   "cell_type": "code",
   "execution_count": 39,
   "metadata": {},
   "outputs": [
    {
     "name": "stdout",
     "output_type": "stream",
     "text": [
      "(3, 1)\n",
      "2A-B = \n",
      "[[-2]\n",
      " [-1]\n",
      " [ 0]]\n"
     ]
    }
   ],
   "source": [
    "import numpy as np\n",
    "A = np.array([[1],[2],[3]])\n",
    "B = np.array([[4],[5],[6]])\n",
    "\n",
    "Ans = np.subtract(2*A,B)\n",
    "print \"2A-B = \"\n",
    "print str(Ans)"
   ]
  },
  {
   "cell_type": "markdown",
   "metadata": {},
   "source": [
    "Sub question - 2"
   ]
  },
  {
   "cell_type": "code",
   "execution_count": 29,
   "metadata": {},
   "outputs": [
    {
     "name": "stdout",
     "output_type": "stream",
     "text": [
      "|A| is = 3.7416573867739413\n",
      "Angle of A reltive to the postive X axis = [74.49864043]\n"
     ]
    }
   ],
   "source": [
    "from numpy import linalg as LA\n",
    "normofA = LA.norm(A)\n",
    "print \"|A| is = \" + str(normofA)\n",
    "\n",
    "angle = np.degrees(np.arccos(A[0]/normofA))\n",
    "print \"Angle of A reltive to the postive X axis = \" + str(angle)"
   ]
  },
  {
   "cell_type": "markdown",
   "metadata": {},
   "source": [
    "Sub question - 3"
   ]
  },
  {
   "cell_type": "code",
   "execution_count": 28,
   "metadata": {},
   "outputs": [
    {
     "name": "stdout",
     "output_type": "stream",
     "text": [
      "Unit vector in the direction of A is = \n",
      "[[0.26726124]\n",
      " [0.53452248]\n",
      " [0.80178373]]\n"
     ]
    }
   ],
   "source": [
    "unit_vector = np.divide(A,normofA)\n",
    "print \"Unit vector in the direction of A is = \" \n",
    "print unit_vector"
   ]
  },
  {
   "cell_type": "markdown",
   "metadata": {},
   "source": [
    "Sub question - 4"
   ]
  },
  {
   "cell_type": "code",
   "execution_count": 31,
   "metadata": {},
   "outputs": [
    {
     "name": "stdout",
     "output_type": "stream",
     "text": [
      "Direction cosine of A = \n",
      "Cos Alpha[0.26726124]\n",
      "Cos Bita[0.53452248]\n",
      "Cos Gamma[0.80178373]\n"
     ]
    }
   ],
   "source": [
    "cos_alpha = A[0]/normofA\n",
    "\n",
    "cos_bita = A[1]/normofA\n",
    "\n",
    "cos_gamma = A[2]/normofA\n",
    "\n",
    "print \"Direction cosine of A = \"\n",
    "print \"Cos Alpha\" + str(cos_alpha)\n",
    "print \"Cos Bita\" + str(cos_bita)\n",
    "print \"Cos Gamma\" + str(cos_gamma)"
   ]
  },
  {
   "cell_type": "markdown",
   "metadata": {},
   "source": [
    "Sub question - 5"
   ]
  },
  {
   "cell_type": "code",
   "execution_count": 47,
   "metadata": {},
   "outputs": [
    {
     "name": "stdout",
     "output_type": "stream",
     "text": [
      "A•B =[[ 4  5  6]\n",
      " [ 8 10 12]\n",
      " [12 15 18]]\n",
      "B•A =[32]\n"
     ]
    }
   ],
   "source": [
    "dot_product_A_B = sum(np.multiply(A,B))\n",
    "print \"A•B =\" + str(dot_product_A_B)\n",
    "\n",
    "dot_product_B_A = sum(np.multiply(A,B))\n",
    "print \"B•A =\" + str(dot_product_B_A)"
   ]
  },
  {
   "cell_type": "markdown",
   "metadata": {},
   "source": [
    "Sub question - 6"
   ]
  },
  {
   "cell_type": "code",
   "execution_count": 46,
   "metadata": {},
   "outputs": [
    {
     "name": "stdout",
     "output_type": "stream",
     "text": [
      "Angle between A and B is = [12.93315449]\n"
     ]
    }
   ],
   "source": [
    "angle_A_B = np.degrees(np.arccos(dot_product_A_B/(normofA * LA.norm(B))))\n",
    "print \"Angle between A and B is = \" + str(angle_A_B)"
   ]
  },
  {
   "cell_type": "markdown",
   "metadata": {},
   "source": [
    "Sub question - 7"
   ]
  },
  {
   "cell_type": "code",
   "execution_count": 110,
   "metadata": {},
   "outputs": [
    {
     "name": "stdout",
     "output_type": "stream",
     "text": [
      "(2,2,-2) solves the eqution x+2y+3z = 0. So, the (2,2,-2) is perpendicular to A.\n"
     ]
    }
   ],
   "source": [
    "print \"(2,2,-2) solves the eqution x+2y+3z = 0. So, the (2,2,-2) is perpendicular to A.\""
   ]
  },
  {
   "cell_type": "markdown",
   "metadata": {},
   "source": [
    "Sub question - 8"
   ]
  },
  {
   "cell_type": "code",
   "execution_count": 60,
   "metadata": {},
   "outputs": [
    {
     "name": "stdout",
     "output_type": "stream",
     "text": [
      "A X B =[[-3  6 -3]]\n",
      "B X A =[[ 3 -6  3]]\n"
     ]
    }
   ],
   "source": [
    "cross_A_B = np.cross(np.transpose(A),np.transpose(B))\n",
    "print \"A X B =\" + str(cross_A_B)\n",
    "\n",
    "cross_B_A = np.cross(np.transpose(B),np.transpose(A))\n",
    "print \"B X A =\" + str(cross_B_A)"
   ]
  },
  {
   "cell_type": "markdown",
   "metadata": {},
   "source": [
    "Sub question - 9"
   ]
  },
  {
   "cell_type": "code",
   "execution_count": 61,
   "metadata": {},
   "outputs": [
    {
     "name": "stdout",
     "output_type": "stream",
     "text": [
      "Vector Perpendicular to both A and B is = [[-3  6 -3]]\n"
     ]
    }
   ],
   "source": [
    "print \"Vector Perpendicular to both A and B is = \" + str(cross_A_B)"
   ]
  },
  {
   "cell_type": "markdown",
   "metadata": {},
   "source": [
    "Sub question - 10"
   ]
  },
  {
   "cell_type": "code",
   "execution_count": 109,
   "metadata": {},
   "outputs": [
    {
     "name": "stdout",
     "output_type": "stream",
     "text": [
      "C1+4C2-C3=0 \\N 2C1+5C2+C3=0 \\N 3C1+6C2+3C3=0 \n",
      " After row reduction C1+3C3=0 \n",
      " C2-C3=0. So, S = {V1,V2,V3} is linearly independent.\n"
     ]
    }
   ],
   "source": [
    "print \"C1+4C2-C3=0 \\N 2C1+5C2+C3=0 \\N 3C1+6C2+3C3=0 \\n After row reduction C1+3C3=0 \\n C2-C3=0. So, S = {V1,V2,V3} is linearly independent.\""
   ]
  },
  {
   "cell_type": "markdown",
   "metadata": {},
   "source": [
    "Sub question - 11"
   ]
  },
  {
   "cell_type": "code",
   "execution_count": 53,
   "metadata": {},
   "outputs": [
    {
     "name": "stdout",
     "output_type": "stream",
     "text": [
      "A^T B = [[32]]\n",
      "A B^T = \n",
      "[[ 4  5  6]\n",
      " [ 8 10 12]\n",
      " [12 15 18]]\n"
     ]
    }
   ],
   "source": [
    "print \"A^T B = \" + str(np.matmul(np.transpose(A),B))\n",
    "print \"A B^T = \"\n",
    "print np.matmul(A,np.transpose(B))"
   ]
  },
  {
   "cell_type": "markdown",
   "metadata": {},
   "source": [
    " Question - B"
   ]
  },
  {
   "cell_type": "markdown",
   "metadata": {},
   "source": [
    "Sub Question - 1"
   ]
  },
  {
   "cell_type": "code",
   "execution_count": 62,
   "metadata": {},
   "outputs": [
    {
     "name": "stdout",
     "output_type": "stream",
     "text": [
      "2A-B = \n",
      "[[ 1  2  5]\n",
      " [ 6 -5 10]\n",
      " [-3 12 -3]]\n"
     ]
    }
   ],
   "source": [
    "A = np.array([[1,2,3],[4,-2,3],[0,5,-1]])\n",
    "B = np.array([[1,2,1],[2,1,-4],[3,-2,1]])\n",
    "\n",
    "\n",
    "Ans = np.subtract(2*A,B)\n",
    "print \"2A-B = \"\n",
    "print str(Ans)"
   ]
  },
  {
   "cell_type": "markdown",
   "metadata": {},
   "source": [
    "Sub Question - 2"
   ]
  },
  {
   "cell_type": "code",
   "execution_count": 64,
   "metadata": {},
   "outputs": [
    {
     "name": "stdout",
     "output_type": "stream",
     "text": [
      "AB =[[ 14  -2  -4]\n",
      " [  9   0  15]\n",
      " [  7   7 -21]]\n",
      "BA =[[  9   3   8]\n",
      " [  6 -18  13]\n",
      " [ -5  15   2]]\n"
     ]
    }
   ],
   "source": [
    "print \"AB =\" + str(np.matmul(A,B))\n",
    "print \"BA =\" + str(np.matmul(B,A))"
   ]
  },
  {
   "cell_type": "markdown",
   "metadata": {},
   "source": [
    "Sub Question - 3"
   ]
  },
  {
   "cell_type": "code",
   "execution_count": 68,
   "metadata": {},
   "outputs": [
    {
     "name": "stdout",
     "output_type": "stream",
     "text": [
      "(AB)^T =[[ 14   9   7]\n",
      " [ -2   0   7]\n",
      " [ -4  15 -21]]\n",
      "B^T A^T =[[ 14   9   7]\n",
      " [ -2   0   7]\n",
      " [ -4  15 -21]]\n"
     ]
    }
   ],
   "source": [
    "print \"(AB)^T =\" + str(np.transpose((np.matmul(A,B))))\n",
    "print \"B^T A^T =\" + str(np.matmul(np.transpose(B),np.transpose(A)))"
   ]
  },
  {
   "cell_type": "markdown",
   "metadata": {},
   "source": [
    "Sub Question - 4"
   ]
  },
  {
   "cell_type": "code",
   "execution_count": 73,
   "metadata": {},
   "outputs": [
    {
     "name": "stdout",
     "output_type": "stream",
     "text": [
      "|A| is = 54.999999999999964\n",
      "|C| is = 7.494005416219837e-16\n"
     ]
    }
   ],
   "source": [
    "detofA = np.linalg.det(A)\n",
    "print \"|A| is = \" + str(detofA)\n",
    "\n",
    "C = np.array([[1,2,3],[4,5,6],[-1,1,3]])\n",
    "\n",
    "detofC = np.linalg.det(C)\n",
    "print \"|C| is = \" + str(detofC)\n"
   ]
  },
  {
   "cell_type": "markdown",
   "metadata": {},
   "source": [
    "Sub Question - 5"
   ]
  },
  {
   "cell_type": "code",
   "execution_count": null,
   "metadata": {},
   "outputs": [],
   "source": [
    "dot_product_A = sum(np.multiply(A[0],A[1]))\n",
    "print dot_product_A\n",
    "print \"Dot product of A is not zero so A is not orthogonal set.\"\n",
    "dot_product_B_1 = sum(np.multiply(B[0],B[1]))\n",
    "dot_product_B_2 = sum(np.multiply(B[1],B[2]))\n",
    "dot_product_B_3 = sum(np.multiply(B[2],B[0]))\n",
    "print \"Dot product of B is zero so B is orthogonal set.\"\n"
   ]
  },
  {
   "cell_type": "markdown",
   "metadata": {},
   "source": [
    "Sub Question - 6"
   ]
  },
  {
   "cell_type": "code",
   "execution_count": 75,
   "metadata": {},
   "outputs": [
    {
     "name": "stdout",
     "output_type": "stream",
     "text": [
      "[[-0.23636364  0.30909091  0.21818182]\n",
      " [ 0.07272727 -0.01818182  0.16363636]\n",
      " [ 0.36363636 -0.09090909 -0.18181818]]\n",
      "[[ 0.16666667  0.0952381   0.21428571]\n",
      " [ 0.33333333  0.04761905 -0.14285714]\n",
      " [ 0.16666667 -0.19047619  0.07142857]]\n"
     ]
    }
   ],
   "source": [
    "print LA.inv(A)\n",
    "print LA.inv(B)"
   ]
  },
  {
   "cell_type": "markdown",
   "metadata": {},
   "source": [
    "Question - C"
   ]
  },
  {
   "cell_type": "markdown",
   "metadata": {},
   "source": [
    "Sub Question - 1"
   ]
  },
  {
   "cell_type": "code",
   "execution_count": 85,
   "metadata": {},
   "outputs": [
    {
     "name": "stdout",
     "output_type": "stream",
     "text": [
      "Eigenvalues are = [-1.  4.]\n",
      "Eigenvactors are = \n",
      "[[-0.70710678 -0.5547002 ]\n",
      " [ 0.70710678 -0.83205029]]\n"
     ]
    }
   ],
   "source": [
    "A = np.array([[1,2],[3,2]])\n",
    "B = np.array([[2,-2],[-2,5]])\n",
    "\n",
    "eigenvalue_A = LA.eigvals(A)\n",
    "eigenvector_A = LA.eig(A)[1]\n",
    "print \"Eigenvalues are = \" + str(eigenvalue_A)\n",
    "print \"Eigenvactors are = \\n\" + str(eigenvector_A)\n"
   ]
  },
  {
   "cell_type": "markdown",
   "metadata": {},
   "source": [
    "Sub Question - 2"
   ]
  },
  {
   "cell_type": "code",
   "execution_count": 95,
   "metadata": {},
   "outputs": [
    {
     "name": "stdout",
     "output_type": "stream",
     "text": [
      "V^-1 AV = \n",
      "[[-1.0000000e+00 -4.4408921e-16]\n",
      " [ 0.0000000e+00  4.0000000e+00]]\n"
     ]
    }
   ],
   "source": [
    "print \"V^-1 AV = \\n\" + str(np.matmul(np.matmul(LA.inv(eigenvector_A),A),eigenvector_A))"
   ]
  },
  {
   "cell_type": "markdown",
   "metadata": {},
   "source": [
    "Sub Question - 3"
   ]
  },
  {
   "cell_type": "code",
   "execution_count": 104,
   "metadata": {},
   "outputs": [
    {
     "name": "stdout",
     "output_type": "stream",
     "text": [
      "A•B =1.0\n"
     ]
    }
   ],
   "source": [
    "dot_product_eigen_A = sum(np.multiply([-1,1],[float(2/3),1]))\n",
    "print \"dot product of eigenvectors of A is =\" + str(dot_product_eigen_A)\n"
   ]
  },
  {
   "cell_type": "markdown",
   "metadata": {},
   "source": [
    "Sub Question - 4"
   ]
  },
  {
   "cell_type": "code",
   "execution_count": 108,
   "metadata": {},
   "outputs": [
    {
     "name": "stdout",
     "output_type": "stream",
     "text": [
      "A•B =0.0\n"
     ]
    }
   ],
   "source": [
    "B = np.array([[2,-2],[-2,5]])\n",
    "\n",
    "eigenvector_B = LA.eig(B)[1]\n",
    "dot_product_eigen_B = sum(np.multiply(eigenvector_B[0],eigenvector_B[1]))\n",
    "print \"dot product of eigenvectors of B is =\" + str(dot_product_eigen_B)"
   ]
  },
  {
   "cell_type": "markdown",
   "metadata": {},
   "source": [
    "Sub Question - 5"
   ]
  },
  {
   "cell_type": "code",
   "execution_count": 111,
   "metadata": {},
   "outputs": [
    {
     "name": "stdout",
     "output_type": "stream",
     "text": [
      "Here the eigenvectors of B are linearly independent of each other.So, the matrix x will be invertible. Here B = x λ X^-1. So, matrix B then called as diagonaziable.\n"
     ]
    }
   ],
   "source": [
    "print \"Here the eigenvectors of B are linearly independent of each other.So, the matrix x will be invertible. Here B = x λ X^-1. So, matrix B then called as diagonaziable.\""
   ]
  }
 ],
 "metadata": {
  "kernelspec": {
   "display_name": "Python 2",
   "language": "python",
   "name": "python2"
  },
  "language_info": {
   "codemirror_mode": {
    "name": "ipython",
    "version": 2
   },
   "file_extension": ".py",
   "mimetype": "text/x-python",
   "name": "python",
   "nbconvert_exporter": "python",
   "pygments_lexer": "ipython2",
   "version": "2.7.15"
  }
 },
 "nbformat": 4,
 "nbformat_minor": 2
}
